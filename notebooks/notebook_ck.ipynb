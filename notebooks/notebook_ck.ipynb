{
 "cells": [
  {
   "cell_type": "code",
   "execution_count": 17,
   "id": "f06a3455",
   "metadata": {},
   "outputs": [],
   "source": [
    "import pandas as pd\n",
    "import numpy as np\n",
    "import matplotlib.pyplot as plt\n",
    "import seaborn as sns\n",
    "import matplotlib.ticker as mtick"
   ]
  },
  {
   "cell_type": "code",
   "execution_count": null,
   "id": "827ca251",
   "metadata": {},
   "outputs": [],
   "source": [
    "# Read HouseTS.csv into area_df\n",
    "area_df = pd.read_csv('../raw_data/HouseTS.csv')\n",
    "\n",
    "# Read realtor-data.csv into house_df\n",
    "house_df = pd.read_csv('../raw_data/realtor-data.csv')"
   ]
  },
  {
   "cell_type": "code",
   "execution_count": null,
   "id": "17c4ad3f",
   "metadata": {},
   "outputs": [
    {
     "name": "stdout",
     "output_type": "stream",
     "text": [
      "6226\n"
     ]
    }
   ],
   "source": [
    "# Create list of unique zipcodes in area_df\n",
    "unique_zipcodes_area_df = area_df['zipcode'].unique().tolist()\n",
    "print(len(unique_zipcodes_area_df))\n",
    "\n",
    "# Filter house_df by unique_zipcoes_area_df\n",
    "filtered_house_df = house_df[house_df['zip_code'].isin(unique_zipcodes_area_df)]\n",
    "filtered_house_df.info()"
   ]
  },
  {
   "cell_type": "code",
   "execution_count": null,
   "id": "cf30ed78",
   "metadata": {},
   "outputs": [],
   "source": [
    "# Drop columns 'brokered_by' and 'status'\n",
    "filtered_house_df = filtered_house_df.drop(columns=['brokered_by', 'status'])\n",
    "\n",
    "# Drop duplicates\n",
    "filtered_house_df = filtered_house_df.drop_duplicates()\n",
    "\n",
    "# Drop columns 'street', 'city', 'state' and 'prev_sold_date'\n",
    "filtered_house_df = filtered_house_df.drop(columns=['street', 'city', 'state', 'prev_sold_date'])\n",
    "\n",
    "# Drop rows with NaN values from 'price'\n",
    "filtered_house_df = filtered_house_df.dropna(subset=['price'])"
   ]
  },
  {
   "cell_type": "code",
   "execution_count": null,
   "id": "962f0493",
   "metadata": {},
   "outputs": [],
   "source": [
    "# Create list where 'bed' & 'bath' & 'house_size' are NaN\n",
    "nan_values = filtered_house_df[\n",
    "    (pd.isna(filtered_house_df['bed'])) &\n",
    "    (pd.isna(filtered_house_df['bath'])) &\n",
    "    (pd.isna(filtered_house_df['house_size']))\n",
    "]\n",
    "\n",
    "nan_values"
   ]
  },
  {
   "cell_type": "code",
   "execution_count": null,
   "id": "0c32a75b",
   "metadata": {},
   "outputs": [],
   "source": [
    "# Filter out rows that are in nan_values\n",
    "cleaned_house_df = filtered_house_df[~filtered_house_df.index.isin(nan_values.index)]\n",
    "\n",
    "# Verify the result\n",
    "print(f\"Original rows in filtered_house_df: {len(filtered_house_df)}\")\n",
    "print(f\"Rows in nan_values (potential land sales): {len(nan_values)}\")\n",
    "print(f\"Rows in cleaned_house_df: {len(cleaned_house_df)}\")\n",
    "print(\"\\nFirst few rows of cleaned_house_df:\")\n",
    "print(cleaned_house_df.head())"
   ]
  },
  {
   "cell_type": "code",
   "execution_count": null,
   "id": "ab75c82a",
   "metadata": {},
   "outputs": [],
   "source": [
    "# Price per square foot of the house\n",
    "cleaned_house_df['ppsf_house'] = round(cleaned_house_df['price'] / cleaned_house_df['house_size'], 2)\n",
    "\n",
    "# Price per acre of the lot (if lot_sqft is in square feet, 1 acre = 43560 sq ft)\n",
    "cleaned_house_df['ppa_lot'] = round(cleaned_house_df['price'] / cleaned_house_df['acre_lot'], 2)"
   ]
  },
  {
   "cell_type": "code",
   "execution_count": 244,
   "id": "0dbcfb3c",
   "metadata": {},
   "outputs": [
    {
     "name": "stdout",
     "output_type": "stream",
     "text": [
      "<class 'pandas.core.frame.DataFrame'>\n",
      "Index: 780780 entries, 5199 to 2220331\n",
      "Data columns (total 8 columns):\n",
      " #   Column      Non-Null Count   Dtype  \n",
      "---  ------      --------------   -----  \n",
      " 0   price       780780 non-null  float64\n",
      " 1   bed         770107 non-null  float64\n",
      " 2   bath        758935 non-null  float64\n",
      " 3   acre_lot    618782 non-null  float64\n",
      " 4   zip_code    780780 non-null  float64\n",
      " 5   house_size  723948 non-null  float64\n",
      " 6   ppsf_house  723948 non-null  float64\n",
      " 7   ppa_lot     618782 non-null  float64\n",
      "dtypes: float64(8)\n",
      "memory usage: 53.6 MB\n"
     ]
    }
   ],
   "source": [
    "cleaned_house_df.info()"
   ]
  },
  {
   "cell_type": "code",
   "execution_count": 245,
   "id": "47b27801",
   "metadata": {},
   "outputs": [],
   "source": [
    "# Calculate Q1 and Q3 for the 'ppsf_house' and 'acre_lot'\n",
    "Q1_house = cleaned_house_df['ppsf_house'].quantile(0.1)\n",
    "Q1_lot = cleaned_house_df['ppa_lot'].quantile(0.1)\n",
    "\n",
    "Q3_house = cleaned_house_df['ppsf_house'].quantile(0.9)\n",
    "Q3_lot = cleaned_house_df['ppa_lot'].quantile(0.9)"
   ]
  },
  {
   "cell_type": "code",
   "execution_count": null,
   "id": "bccc7256",
   "metadata": {},
   "outputs": [
    {
     "name": "stdout",
     "output_type": "stream",
     "text": [
      "<class 'pandas.core.frame.DataFrame'>\n",
      "Index: 436746 entries, 5199 to 2220331\n",
      "Data columns (total 8 columns):\n",
      " #   Column      Non-Null Count   Dtype  \n",
      "---  ------      --------------   -----  \n",
      " 0   price       436746 non-null  float64\n",
      " 1   bed         433660 non-null  float64\n",
      " 2   bath        433175 non-null  float64\n",
      " 3   acre_lot    436746 non-null  float64\n",
      " 4   zip_code    436746 non-null  float64\n",
      " 5   house_size  436746 non-null  float64\n",
      " 6   ppsf_house  436746 non-null  float64\n",
      " 7   ppa_lot     436746 non-null  float64\n",
      "dtypes: float64(8)\n",
      "memory usage: 30.0 MB\n"
     ]
    }
   ],
   "source": [
    "# Filter the DataFrame\n",
    "filtered_house_df = cleaned_house_df[\n",
    "    (cleaned_house_df['ppsf_house'] > Q1_house) &\n",
    "    (cleaned_house_df['ppsf_house'] < Q3_house) &\n",
    "    (cleaned_house_df['ppa_lot'] > 0) &\n",
    "    (cleaned_house_df['ppa_lot'] < Q3_lot)\n",
    "]\n",
    "\n",
    "# Display the filtered DataFrame\n",
    "filtered_house_df.info()"
   ]
  },
  {
   "cell_type": "code",
   "execution_count": null,
   "id": "907ddf0c",
   "metadata": {},
   "outputs": [],
   "source": [
    "\"\"\"\n",
    "# Drop rows with any NaN values\n",
    "cleaned_df = filtered_house_df.dropna()\n",
    "\n",
    "# Display the number of rows after dropping NaNs\n",
    "print(f\"Number of rows after dropping NaN values: {len(cleaned_df)}\")\n",
    "\n",
    "# Optional: Display the updated DataFrame info to confirm\n",
    "print(cleaned_df.info())\n",
    "\"\"\""
   ]
  },
  {
   "cell_type": "code",
   "execution_count": 250,
   "id": "794921bc",
   "metadata": {},
   "outputs": [
    {
     "name": "stdout",
     "output_type": "stream",
     "text": [
      "Number of NaN values after imputation:\n",
      "price         0\n",
      "bed           0\n",
      "bath          0\n",
      "acre_lot      0\n",
      "zip_code      0\n",
      "house_size    0\n",
      "ppsf_house    0\n",
      "ppa_lot       0\n",
      "dtype: int64\n"
     ]
    },
    {
     "data": {
      "text/html": [
       "<div>\n",
       "<style scoped>\n",
       "    .dataframe tbody tr th:only-of-type {\n",
       "        vertical-align: middle;\n",
       "    }\n",
       "\n",
       "    .dataframe tbody tr th {\n",
       "        vertical-align: top;\n",
       "    }\n",
       "\n",
       "    .dataframe thead th {\n",
       "        text-align: right;\n",
       "    }\n",
       "</style>\n",
       "<table border=\"1\" class=\"dataframe\">\n",
       "  <thead>\n",
       "    <tr style=\"text-align: right;\">\n",
       "      <th></th>\n",
       "      <th>price</th>\n",
       "      <th>bed</th>\n",
       "      <th>bath</th>\n",
       "      <th>acre_lot</th>\n",
       "      <th>zip_code</th>\n",
       "      <th>house_size</th>\n",
       "      <th>ppsf_house</th>\n",
       "      <th>ppa_lot</th>\n",
       "    </tr>\n",
       "  </thead>\n",
       "  <tbody>\n",
       "    <tr>\n",
       "      <th>count</th>\n",
       "      <td>4.367460e+05</td>\n",
       "      <td>436746.000000</td>\n",
       "      <td>436746.000000</td>\n",
       "      <td>436746.000000</td>\n",
       "      <td>436746.00000</td>\n",
       "      <td>436746.000000</td>\n",
       "      <td>436746.000000</td>\n",
       "      <td>4.367460e+05</td>\n",
       "    </tr>\n",
       "    <tr>\n",
       "      <th>mean</th>\n",
       "      <td>5.784471e+05</td>\n",
       "      <td>3.461621</td>\n",
       "      <td>2.664679</td>\n",
       "      <td>9.129796</td>\n",
       "      <td>59031.15917</td>\n",
       "      <td>2161.956803</td>\n",
       "      <td>271.313944</td>\n",
       "      <td>3.010703e+06</td>\n",
       "    </tr>\n",
       "    <tr>\n",
       "      <th>std</th>\n",
       "      <td>4.502282e+05</td>\n",
       "      <td>1.188102</td>\n",
       "      <td>1.238211</td>\n",
       "      <td>723.294854</td>\n",
       "      <td>30626.41762</td>\n",
       "      <td>1238.217495</td>\n",
       "      <td>113.604414</td>\n",
       "      <td>2.373609e+06</td>\n",
       "    </tr>\n",
       "    <tr>\n",
       "      <th>min</th>\n",
       "      <td>2.000000e+04</td>\n",
       "      <td>1.000000</td>\n",
       "      <td>1.000000</td>\n",
       "      <td>0.010000</td>\n",
       "      <td>1431.00000</td>\n",
       "      <td>140.000000</td>\n",
       "      <td>135.430000</td>\n",
       "      <td>1.600000e+00</td>\n",
       "    </tr>\n",
       "    <tr>\n",
       "      <th>25%</th>\n",
       "      <td>3.350000e+05</td>\n",
       "      <td>3.000000</td>\n",
       "      <td>2.000000</td>\n",
       "      <td>0.140000</td>\n",
       "      <td>30248.00000</td>\n",
       "      <td>1420.000000</td>\n",
       "      <td>184.190000</td>\n",
       "      <td>1.310000e+06</td>\n",
       "    </tr>\n",
       "    <tr>\n",
       "      <th>50%</th>\n",
       "      <td>4.710000e+05</td>\n",
       "      <td>3.000000</td>\n",
       "      <td>2.000000</td>\n",
       "      <td>0.190000</td>\n",
       "      <td>63385.00000</td>\n",
       "      <td>1882.000000</td>\n",
       "      <td>237.740000</td>\n",
       "      <td>2.416667e+06</td>\n",
       "    </tr>\n",
       "    <tr>\n",
       "      <th>75%</th>\n",
       "      <td>6.800000e+05</td>\n",
       "      <td>4.000000</td>\n",
       "      <td>3.000000</td>\n",
       "      <td>0.330000</td>\n",
       "      <td>85739.00000</td>\n",
       "      <td>2569.000000</td>\n",
       "      <td>328.107500</td>\n",
       "      <td>4.055556e+06</td>\n",
       "    </tr>\n",
       "    <tr>\n",
       "      <th>max</th>\n",
       "      <td>2.050000e+07</td>\n",
       "      <td>108.000000</td>\n",
       "      <td>175.000000</td>\n",
       "      <td>100000.000000</td>\n",
       "      <td>98686.00000</td>\n",
       "      <td>114000.000000</td>\n",
       "      <td>634.340000</td>\n",
       "      <td>1.104678e+07</td>\n",
       "    </tr>\n",
       "  </tbody>\n",
       "</table>\n",
       "</div>"
      ],
      "text/plain": [
       "              price            bed           bath       acre_lot  \\\n",
       "count  4.367460e+05  436746.000000  436746.000000  436746.000000   \n",
       "mean   5.784471e+05       3.461621       2.664679       9.129796   \n",
       "std    4.502282e+05       1.188102       1.238211     723.294854   \n",
       "min    2.000000e+04       1.000000       1.000000       0.010000   \n",
       "25%    3.350000e+05       3.000000       2.000000       0.140000   \n",
       "50%    4.710000e+05       3.000000       2.000000       0.190000   \n",
       "75%    6.800000e+05       4.000000       3.000000       0.330000   \n",
       "max    2.050000e+07     108.000000     175.000000  100000.000000   \n",
       "\n",
       "           zip_code     house_size     ppsf_house       ppa_lot  \n",
       "count  436746.00000  436746.000000  436746.000000  4.367460e+05  \n",
       "mean    59031.15917    2161.956803     271.313944  3.010703e+06  \n",
       "std     30626.41762    1238.217495     113.604414  2.373609e+06  \n",
       "min      1431.00000     140.000000     135.430000  1.600000e+00  \n",
       "25%     30248.00000    1420.000000     184.190000  1.310000e+06  \n",
       "50%     63385.00000    1882.000000     237.740000  2.416667e+06  \n",
       "75%     85739.00000    2569.000000     328.107500  4.055556e+06  \n",
       "max     98686.00000  114000.000000     634.340000  1.104678e+07  "
      ]
     },
     "execution_count": 250,
     "metadata": {},
     "output_type": "execute_result"
    }
   ],
   "source": [
    "# Create a copy to the original DataFrame\n",
    "imputed_df = filtered_house_df.copy()\n",
    "\n",
    "# Impute missing values with the median for 'bed' and 'bath'\n",
    "imputed_df['bed'] = imputed_df['bed'].fillna(imputed_df['bed'].median())\n",
    "imputed_df['bath'] = imputed_df['bath'].fillna(imputed_df['bath'].median())\n",
    "\n",
    "# Verify no NaN values remain in 'bed' and 'bath'\n",
    "print(\"Number of NaN values after imputation:\")\n",
    "print(imputed_df.isna().sum())\n",
    "\n",
    "# Optional: Display DataFrame info to confirm\n",
    "imputed_df.describe()"
   ]
  },
  {
   "cell_type": "code",
   "execution_count": null,
   "id": "4eccf847",
   "metadata": {},
   "outputs": [],
   "source": []
  }
 ],
 "metadata": {
  "kernelspec": {
   "display_name": "zillows_real_estate",
   "language": "python",
   "name": "python3"
  },
  "language_info": {
   "codemirror_mode": {
    "name": "ipython",
    "version": 3
   },
   "file_extension": ".py",
   "mimetype": "text/x-python",
   "name": "python",
   "nbconvert_exporter": "python",
   "pygments_lexer": "ipython3",
   "version": "3.10.6"
  }
 },
 "nbformat": 4,
 "nbformat_minor": 5
}
