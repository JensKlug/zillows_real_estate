{
 "cells": [
  {
   "cell_type": "code",
   "execution_count": 1,
   "id": "d78f7e7b-04fb-40dd-9f56-73c7e67254a2",
   "metadata": {
    "execution": {
     "iopub.execute_input": "2025-06-10T14:22:33.268879Z",
     "iopub.status.busy": "2025-06-10T14:22:33.268763Z",
     "iopub.status.idle": "2025-06-10T14:22:33.455212Z",
     "shell.execute_reply": "2025-06-10T14:22:33.454420Z",
     "shell.execute_reply.started": "2025-06-10T14:22:33.268864Z"
    }
   },
   "outputs": [],
   "source": [
    "import pandas as pd\n"
   ]
  },
  {
   "cell_type": "code",
   "execution_count": 2,
   "id": "331c152c-c6eb-4d70-9229-7c374ded6099",
   "metadata": {
    "execution": {
     "iopub.execute_input": "2025-06-10T14:22:33.456105Z",
     "iopub.status.busy": "2025-06-10T14:22:33.455852Z",
     "iopub.status.idle": "2025-06-10T14:22:34.583836Z",
     "shell.execute_reply": "2025-06-10T14:22:34.583170Z",
     "shell.execute_reply.started": "2025-06-10T14:22:33.456088Z"
    }
   },
   "outputs": [],
   "source": [
    "house_df = pd.read_csv('../raw_data/realtor-data.csv')"
   ]
  },
  {
   "cell_type": "code",
   "execution_count": 3,
   "id": "8822cafa-2d08-4b3c-ac6a-61eb8ebf0967",
   "metadata": {
    "execution": {
     "iopub.execute_input": "2025-06-10T14:22:34.585476Z",
     "iopub.status.busy": "2025-06-10T14:22:34.585119Z",
     "iopub.status.idle": "2025-06-10T14:22:34.597243Z",
     "shell.execute_reply": "2025-06-10T14:22:34.596693Z",
     "shell.execute_reply.started": "2025-06-10T14:22:34.585457Z"
    }
   },
   "outputs": [
    {
     "name": "stdout",
     "output_type": "stream",
     "text": [
      "CPU times: user 95 μs, sys: 21 μs, total: 116 μs\n",
      "Wall time: 121 μs\n"
     ]
    },
    {
     "data": {
      "text/html": [
       "<div>\n",
       "<style scoped>\n",
       "    .dataframe tbody tr th:only-of-type {\n",
       "        vertical-align: middle;\n",
       "    }\n",
       "\n",
       "    .dataframe tbody tr th {\n",
       "        vertical-align: top;\n",
       "    }\n",
       "\n",
       "    .dataframe thead th {\n",
       "        text-align: right;\n",
       "    }\n",
       "</style>\n",
       "<table border=\"1\" class=\"dataframe\">\n",
       "  <thead>\n",
       "    <tr style=\"text-align: right;\">\n",
       "      <th></th>\n",
       "      <th>brokered_by</th>\n",
       "      <th>status</th>\n",
       "      <th>price</th>\n",
       "      <th>bed</th>\n",
       "      <th>bath</th>\n",
       "      <th>acre_lot</th>\n",
       "      <th>street</th>\n",
       "      <th>city</th>\n",
       "      <th>state</th>\n",
       "      <th>zip_code</th>\n",
       "      <th>house_size</th>\n",
       "      <th>prev_sold_date</th>\n",
       "    </tr>\n",
       "  </thead>\n",
       "  <tbody>\n",
       "    <tr>\n",
       "      <th>0</th>\n",
       "      <td>103378.0</td>\n",
       "      <td>for_sale</td>\n",
       "      <td>105000.0</td>\n",
       "      <td>3.0</td>\n",
       "      <td>2.0</td>\n",
       "      <td>0.12</td>\n",
       "      <td>1962661.0</td>\n",
       "      <td>Adjuntas</td>\n",
       "      <td>Puerto Rico</td>\n",
       "      <td>601.0</td>\n",
       "      <td>920.0</td>\n",
       "      <td>NaN</td>\n",
       "    </tr>\n",
       "    <tr>\n",
       "      <th>1</th>\n",
       "      <td>52707.0</td>\n",
       "      <td>for_sale</td>\n",
       "      <td>80000.0</td>\n",
       "      <td>4.0</td>\n",
       "      <td>2.0</td>\n",
       "      <td>0.08</td>\n",
       "      <td>1902874.0</td>\n",
       "      <td>Adjuntas</td>\n",
       "      <td>Puerto Rico</td>\n",
       "      <td>601.0</td>\n",
       "      <td>1527.0</td>\n",
       "      <td>NaN</td>\n",
       "    </tr>\n",
       "    <tr>\n",
       "      <th>2</th>\n",
       "      <td>103379.0</td>\n",
       "      <td>for_sale</td>\n",
       "      <td>67000.0</td>\n",
       "      <td>2.0</td>\n",
       "      <td>1.0</td>\n",
       "      <td>0.15</td>\n",
       "      <td>1404990.0</td>\n",
       "      <td>Juana Diaz</td>\n",
       "      <td>Puerto Rico</td>\n",
       "      <td>795.0</td>\n",
       "      <td>748.0</td>\n",
       "      <td>NaN</td>\n",
       "    </tr>\n",
       "    <tr>\n",
       "      <th>3</th>\n",
       "      <td>31239.0</td>\n",
       "      <td>for_sale</td>\n",
       "      <td>145000.0</td>\n",
       "      <td>4.0</td>\n",
       "      <td>2.0</td>\n",
       "      <td>0.10</td>\n",
       "      <td>1947675.0</td>\n",
       "      <td>Ponce</td>\n",
       "      <td>Puerto Rico</td>\n",
       "      <td>731.0</td>\n",
       "      <td>1800.0</td>\n",
       "      <td>NaN</td>\n",
       "    </tr>\n",
       "    <tr>\n",
       "      <th>4</th>\n",
       "      <td>34632.0</td>\n",
       "      <td>for_sale</td>\n",
       "      <td>65000.0</td>\n",
       "      <td>6.0</td>\n",
       "      <td>2.0</td>\n",
       "      <td>0.05</td>\n",
       "      <td>331151.0</td>\n",
       "      <td>Mayaguez</td>\n",
       "      <td>Puerto Rico</td>\n",
       "      <td>680.0</td>\n",
       "      <td>NaN</td>\n",
       "      <td>NaN</td>\n",
       "    </tr>\n",
       "  </tbody>\n",
       "</table>\n",
       "</div>"
      ],
      "text/plain": [
       "   brokered_by    status     price  bed  bath  acre_lot     street  \\\n",
       "0     103378.0  for_sale  105000.0  3.0   2.0      0.12  1962661.0   \n",
       "1      52707.0  for_sale   80000.0  4.0   2.0      0.08  1902874.0   \n",
       "2     103379.0  for_sale   67000.0  2.0   1.0      0.15  1404990.0   \n",
       "3      31239.0  for_sale  145000.0  4.0   2.0      0.10  1947675.0   \n",
       "4      34632.0  for_sale   65000.0  6.0   2.0      0.05   331151.0   \n",
       "\n",
       "         city        state  zip_code  house_size prev_sold_date  \n",
       "0    Adjuntas  Puerto Rico     601.0       920.0            NaN  \n",
       "1    Adjuntas  Puerto Rico     601.0      1527.0            NaN  \n",
       "2  Juana Diaz  Puerto Rico     795.0       748.0            NaN  \n",
       "3       Ponce  Puerto Rico     731.0      1800.0            NaN  \n",
       "4    Mayaguez  Puerto Rico     680.0         NaN            NaN  "
      ]
     },
     "execution_count": 3,
     "metadata": {},
     "output_type": "execute_result"
    }
   ],
   "source": [
    "%%time\n",
    "house_df.head()"
   ]
  },
  {
   "cell_type": "code",
   "execution_count": 4,
   "id": "41a09e7f-1781-4e8a-9e07-757412072781",
   "metadata": {
    "execution": {
     "iopub.execute_input": "2025-06-10T14:22:34.598001Z",
     "iopub.status.busy": "2025-06-10T14:22:34.597852Z",
     "iopub.status.idle": "2025-06-10T14:22:35.907030Z",
     "shell.execute_reply": "2025-06-10T14:22:35.906426Z",
     "shell.execute_reply.started": "2025-06-10T14:22:34.597987Z"
    }
   },
   "outputs": [],
   "source": [
    "area_df = pd.read_csv('../raw_data/HouseTS.csv')"
   ]
  },
  {
   "cell_type": "code",
   "execution_count": 5,
   "id": "53975bc0-a71e-4ce0-9ef1-7e45f9d18769",
   "metadata": {
    "execution": {
     "iopub.execute_input": "2025-06-10T14:22:35.907756Z",
     "iopub.status.busy": "2025-06-10T14:22:35.907624Z",
     "iopub.status.idle": "2025-06-10T14:22:35.914094Z",
     "shell.execute_reply": "2025-06-10T14:22:35.913513Z",
     "shell.execute_reply.started": "2025-06-10T14:22:35.907744Z"
    }
   },
   "outputs": [],
   "source": [
    "unique_zipcodes = area_df['zipcode'].unique().tolist()\n",
    "\n",
    "\n",
    "\n"
   ]
  },
  {
   "cell_type": "code",
   "execution_count": 6,
   "id": "c43d04d4-09c0-4735-87b5-252ed4863580",
   "metadata": {
    "execution": {
     "iopub.execute_input": "2025-06-10T14:22:35.915110Z",
     "iopub.status.busy": "2025-06-10T14:22:35.914925Z",
     "iopub.status.idle": "2025-06-10T14:22:36.201894Z",
     "shell.execute_reply": "2025-06-10T14:22:36.201062Z",
     "shell.execute_reply.started": "2025-06-10T14:22:35.915095Z"
    },
    "scrolled": true
   },
   "outputs": [
    {
     "name": "stdout",
     "output_type": "stream",
     "text": [
      "<class 'pandas.core.frame.DataFrame'>\n",
      "Index: 936724 entries, 5199 to 2224341\n",
      "Data columns (total 12 columns):\n",
      " #   Column          Non-Null Count   Dtype  \n",
      "---  ------          --------------   -----  \n",
      " 0   brokered_by     935597 non-null  float64\n",
      " 1   status          936724 non-null  object \n",
      " 2   price           936401 non-null  float64\n",
      " 3   bed             844470 non-null  float64\n",
      " 4   bath            833568 non-null  float64\n",
      " 5   acre_lot        755663 non-null  float64\n",
      " 6   street          931960 non-null  float64\n",
      " 7   city            936587 non-null  object \n",
      " 8   state           936724 non-null  object \n",
      " 9   zip_code        936724 non-null  float64\n",
      " 10  house_size      793101 non-null  float64\n",
      " 11  prev_sold_date  735667 non-null  object \n",
      "dtypes: float64(8), object(4)\n",
      "memory usage: 92.9+ MB\n"
     ]
    }
   ],
   "source": [
    "filtered_house_df = house_df[house_df['zip_code'].isin(unique_zipcodes)]\n",
    "filtered_house_df.info()"
   ]
  },
  {
   "cell_type": "code",
   "execution_count": 7,
   "id": "03c98d6d-a252-4144-a8b1-998e5dd98037",
   "metadata": {
    "execution": {
     "iopub.execute_input": "2025-06-10T14:22:36.203043Z",
     "iopub.status.busy": "2025-06-10T14:22:36.202597Z",
     "iopub.status.idle": "2025-06-10T14:22:36.228077Z",
     "shell.execute_reply": "2025-06-10T14:22:36.223684Z",
     "shell.execute_reply.started": "2025-06-10T14:22:36.203019Z"
    }
   },
   "outputs": [],
   "source": [
    "filtered_house_df = filtered_house_df.drop(columns=[\"brokered_by\", \"status\"])"
   ]
  },
  {
   "cell_type": "code",
   "execution_count": 8,
   "id": "c0bded8c-4aab-4f69-ba1a-d4c58d9b204c",
   "metadata": {
    "execution": {
     "iopub.execute_input": "2025-06-10T14:22:36.229853Z",
     "iopub.status.busy": "2025-06-10T14:22:36.228746Z",
     "iopub.status.idle": "2025-06-10T14:22:36.584255Z",
     "shell.execute_reply": "2025-06-10T14:22:36.583592Z",
     "shell.execute_reply.started": "2025-06-10T14:22:36.229836Z"
    }
   },
   "outputs": [
    {
     "name": "stdout",
     "output_type": "stream",
     "text": [
      "             price  bed  bath  acre_lot     street        city          state  \\\n",
      "24595     659900.0  NaN   NaN    106.86  1853232.0  Barrington  New Hampshire   \n",
      "44736     449000.0  5.0   3.0      0.06   893062.0  Bloomfield     New Jersey   \n",
      "46234     329999.0  4.0   2.0      0.03  1260708.0     Haledon     New Jersey   \n",
      "46583     524900.0  5.0   3.0      0.06   984852.0        Lodi     New Jersey   \n",
      "46767     499000.0  5.0   3.0      0.05  1372844.0    Brooklyn       New York   \n",
      "...            ...  ...   ...       ...        ...         ...            ...   \n",
      "2197155  1025000.0  3.0   2.0      0.03  1374909.0     Seattle     Washington   \n",
      "2197253   680000.0  3.0   2.0      0.08   111278.0      Renton     Washington   \n",
      "2197789   775000.0  3.0   2.0      0.05   194389.0     Seattle     Washington   \n",
      "2202651   549500.0  5.0   3.0      0.08   133822.0    Puyallup     Washington   \n",
      "2203665  1897000.0  3.0   3.0      0.48  1146365.0   Sammamish     Washington   \n",
      "\n",
      "         zip_code  house_size prev_sold_date  \n",
      "24595      3825.0         NaN            NaN  \n",
      "44736      7003.0         NaN            NaN  \n",
      "46234      7508.0         NaN            NaN  \n",
      "46583      7644.0         NaN            NaN  \n",
      "46767     11210.0      2144.0            NaN  \n",
      "...           ...         ...            ...  \n",
      "2197155   98107.0      1643.0     2022-03-24  \n",
      "2197253   98055.0      1340.0     2022-03-24  \n",
      "2197789   98133.0      2580.0     2022-04-01  \n",
      "2202651   98374.0      2375.0     2022-03-24  \n",
      "2203665   98075.0      3040.0     2022-04-26  \n",
      "\n",
      "[1392 rows x 10 columns]\n"
     ]
    }
   ],
   "source": [
    "print(filtered_house_df[filtered_house_df.duplicated()])"
   ]
  },
  {
   "cell_type": "code",
   "execution_count": 9,
   "id": "a8dc2e46-320f-480a-9cf2-88e371fa862c",
   "metadata": {
    "execution": {
     "iopub.execute_input": "2025-06-10T14:22:36.585087Z",
     "iopub.status.busy": "2025-06-10T14:22:36.584784Z",
     "iopub.status.idle": "2025-06-10T14:22:36.876081Z",
     "shell.execute_reply": "2025-06-10T14:22:36.875436Z",
     "shell.execute_reply.started": "2025-06-10T14:22:36.585072Z"
    }
   },
   "outputs": [
    {
     "data": {
      "text/plain": [
       "935332"
      ]
     },
     "execution_count": 9,
     "metadata": {},
     "output_type": "execute_result"
    }
   ],
   "source": [
    "filtered_house_df = filtered_house_df.drop_duplicates() # Remove duplicates\n",
    "len(filtered_house_df)# Check new number of rows"
   ]
  },
  {
   "cell_type": "code",
   "execution_count": null,
   "id": "1a73ca8d-78de-43bf-9cf9-aa9fd5d9b1bd",
   "metadata": {},
   "outputs": [],
   "source": []
  },
  {
   "cell_type": "code",
   "execution_count": 10,
   "id": "c99e0994-c82d-4904-a9c7-a92d87c0585d",
   "metadata": {
    "execution": {
     "iopub.execute_input": "2025-06-10T14:22:36.877140Z",
     "iopub.status.busy": "2025-06-10T14:22:36.876782Z",
     "iopub.status.idle": "2025-06-10T14:22:36.887878Z",
     "shell.execute_reply": "2025-06-10T14:22:36.887221Z",
     "shell.execute_reply.started": "2025-06-10T14:22:36.877123Z"
    }
   },
   "outputs": [],
   "source": [
    "filtered_house_df = filtered_house_df.drop(columns=[\"street\", \"city\", \"state\", \"prev_sold_date\"])"
   ]
  },
  {
   "cell_type": "code",
   "execution_count": 11,
   "id": "ff4dfa4f-4103-48c4-9faa-f387d823baa2",
   "metadata": {
    "execution": {
     "iopub.execute_input": "2025-06-10T14:22:36.888765Z",
     "iopub.status.busy": "2025-06-10T14:22:36.888577Z",
     "iopub.status.idle": "2025-06-10T14:22:36.897757Z",
     "shell.execute_reply": "2025-06-10T14:22:36.897134Z",
     "shell.execute_reply.started": "2025-06-10T14:22:36.888746Z"
    }
   },
   "outputs": [
    {
     "name": "stdout",
     "output_type": "stream",
     "text": [
      "<class 'pandas.core.frame.DataFrame'>\n",
      "Index: 935332 entries, 5199 to 2224341\n",
      "Data columns (total 6 columns):\n",
      " #   Column      Non-Null Count   Dtype  \n",
      "---  ------      --------------   -----  \n",
      " 0   price       935009 non-null  float64\n",
      " 1   bed         843252 non-null  float64\n",
      " 2   bath        832339 non-null  float64\n",
      " 3   acre_lot    754475 non-null  float64\n",
      " 4   zip_code    935332 non-null  float64\n",
      " 5   house_size  792047 non-null  float64\n",
      "dtypes: float64(6)\n",
      "memory usage: 50.0 MB\n"
     ]
    }
   ],
   "source": [
    "filtered_house_df.info()"
   ]
  },
  {
   "cell_type": "code",
   "execution_count": 12,
   "id": "bc8d322e-2c09-4a8b-aa68-4bf121a1ba05",
   "metadata": {
    "execution": {
     "iopub.execute_input": "2025-06-10T14:22:36.899872Z",
     "iopub.status.busy": "2025-06-10T14:22:36.899434Z",
     "iopub.status.idle": "2025-06-10T14:22:36.918307Z",
     "shell.execute_reply": "2025-06-10T14:22:36.917633Z",
     "shell.execute_reply.started": "2025-06-10T14:22:36.899847Z"
    }
   },
   "outputs": [
    {
     "data": {
      "text/html": [
       "<div>\n",
       "<style scoped>\n",
       "    .dataframe tbody tr th:only-of-type {\n",
       "        vertical-align: middle;\n",
       "    }\n",
       "\n",
       "    .dataframe tbody tr th {\n",
       "        vertical-align: top;\n",
       "    }\n",
       "\n",
       "    .dataframe thead th {\n",
       "        text-align: right;\n",
       "    }\n",
       "</style>\n",
       "<table border=\"1\" class=\"dataframe\">\n",
       "  <thead>\n",
       "    <tr style=\"text-align: right;\">\n",
       "      <th></th>\n",
       "      <th>price</th>\n",
       "      <th>bed</th>\n",
       "      <th>bath</th>\n",
       "      <th>acre_lot</th>\n",
       "      <th>zip_code</th>\n",
       "      <th>house_size</th>\n",
       "    </tr>\n",
       "  </thead>\n",
       "  <tbody>\n",
       "    <tr>\n",
       "      <th>81793</th>\n",
       "      <td>NaN</td>\n",
       "      <td>4.0</td>\n",
       "      <td>NaN</td>\n",
       "      <td>NaN</td>\n",
       "      <td>8055.0</td>\n",
       "      <td>2244.0</td>\n",
       "    </tr>\n",
       "    <tr>\n",
       "      <th>81799</th>\n",
       "      <td>NaN</td>\n",
       "      <td>3.0</td>\n",
       "      <td>NaN</td>\n",
       "      <td>NaN</td>\n",
       "      <td>8054.0</td>\n",
       "      <td>2224.0</td>\n",
       "    </tr>\n",
       "    <tr>\n",
       "      <th>81800</th>\n",
       "      <td>NaN</td>\n",
       "      <td>3.0</td>\n",
       "      <td>NaN</td>\n",
       "      <td>NaN</td>\n",
       "      <td>8054.0</td>\n",
       "      <td>2270.0</td>\n",
       "    </tr>\n",
       "    <tr>\n",
       "      <th>82259</th>\n",
       "      <td>NaN</td>\n",
       "      <td>2.0</td>\n",
       "      <td>NaN</td>\n",
       "      <td>NaN</td>\n",
       "      <td>8057.0</td>\n",
       "      <td>1748.0</td>\n",
       "    </tr>\n",
       "    <tr>\n",
       "      <th>82297</th>\n",
       "      <td>NaN</td>\n",
       "      <td>2.0</td>\n",
       "      <td>NaN</td>\n",
       "      <td>NaN</td>\n",
       "      <td>8057.0</td>\n",
       "      <td>1865.0</td>\n",
       "    </tr>\n",
       "    <tr>\n",
       "      <th>...</th>\n",
       "      <td>...</td>\n",
       "      <td>...</td>\n",
       "      <td>...</td>\n",
       "      <td>...</td>\n",
       "      <td>...</td>\n",
       "      <td>...</td>\n",
       "    </tr>\n",
       "    <tr>\n",
       "      <th>1394574</th>\n",
       "      <td>NaN</td>\n",
       "      <td>5.0</td>\n",
       "      <td>NaN</td>\n",
       "      <td>NaN</td>\n",
       "      <td>98360.0</td>\n",
       "      <td>2770.0</td>\n",
       "    </tr>\n",
       "    <tr>\n",
       "      <th>1785823</th>\n",
       "      <td>NaN</td>\n",
       "      <td>2.0</td>\n",
       "      <td>1.0</td>\n",
       "      <td>0.11</td>\n",
       "      <td>60409.0</td>\n",
       "      <td>840.0</td>\n",
       "    </tr>\n",
       "    <tr>\n",
       "      <th>1786347</th>\n",
       "      <td>NaN</td>\n",
       "      <td>3.0</td>\n",
       "      <td>2.0</td>\n",
       "      <td>0.17</td>\n",
       "      <td>60473.0</td>\n",
       "      <td>1500.0</td>\n",
       "    </tr>\n",
       "    <tr>\n",
       "      <th>1846450</th>\n",
       "      <td>NaN</td>\n",
       "      <td>3.0</td>\n",
       "      <td>2.0</td>\n",
       "      <td>0.23</td>\n",
       "      <td>60016.0</td>\n",
       "      <td>1196.0</td>\n",
       "    </tr>\n",
       "    <tr>\n",
       "      <th>1857265</th>\n",
       "      <td>NaN</td>\n",
       "      <td>2.0</td>\n",
       "      <td>2.0</td>\n",
       "      <td>35.00</td>\n",
       "      <td>60453.0</td>\n",
       "      <td>1641.0</td>\n",
       "    </tr>\n",
       "  </tbody>\n",
       "</table>\n",
       "<p>323 rows × 6 columns</p>\n",
       "</div>"
      ],
      "text/plain": [
       "         price  bed  bath  acre_lot  zip_code  house_size\n",
       "81793      NaN  4.0   NaN       NaN    8055.0      2244.0\n",
       "81799      NaN  3.0   NaN       NaN    8054.0      2224.0\n",
       "81800      NaN  3.0   NaN       NaN    8054.0      2270.0\n",
       "82259      NaN  2.0   NaN       NaN    8057.0      1748.0\n",
       "82297      NaN  2.0   NaN       NaN    8057.0      1865.0\n",
       "...        ...  ...   ...       ...       ...         ...\n",
       "1394574    NaN  5.0   NaN       NaN   98360.0      2770.0\n",
       "1785823    NaN  2.0   1.0      0.11   60409.0       840.0\n",
       "1786347    NaN  3.0   2.0      0.17   60473.0      1500.0\n",
       "1846450    NaN  3.0   2.0      0.23   60016.0      1196.0\n",
       "1857265    NaN  2.0   2.0     35.00   60453.0      1641.0\n",
       "\n",
       "[323 rows x 6 columns]"
      ]
     },
     "execution_count": 12,
     "metadata": {},
     "output_type": "execute_result"
    }
   ],
   "source": [
    "non_numeric_prices = filtered_house_df[~pd.to_numeric(filtered_house_df['price'], errors='coerce').notnull()]\n",
    "non_numeric_prices"
   ]
  },
  {
   "cell_type": "code",
   "execution_count": 13,
   "id": "fadb3af8-4bf1-4a23-b723-74bcf45a13f0",
   "metadata": {
    "execution": {
     "iopub.execute_input": "2025-06-10T14:22:36.920387Z",
     "iopub.status.busy": "2025-06-10T14:22:36.919928Z",
     "iopub.status.idle": "2025-06-10T14:22:36.940184Z",
     "shell.execute_reply": "2025-06-10T14:22:36.939483Z",
     "shell.execute_reply.started": "2025-06-10T14:22:36.920367Z"
    }
   },
   "outputs": [
    {
     "name": "stdout",
     "output_type": "stream",
     "text": [
      "<class 'pandas.core.frame.DataFrame'>\n",
      "Index: 935009 entries, 5199 to 2224341\n",
      "Data columns (total 6 columns):\n",
      " #   Column      Non-Null Count   Dtype  \n",
      "---  ------      --------------   -----  \n",
      " 0   price       935009 non-null  float64\n",
      " 1   bed         842950 non-null  float64\n",
      " 2   bath        832269 non-null  float64\n",
      " 3   acre_lot    754398 non-null  float64\n",
      " 4   zip_code    935009 non-null  float64\n",
      " 5   house_size  791755 non-null  float64\n",
      "dtypes: float64(6)\n",
      "memory usage: 49.9 MB\n",
      "CPU times: user 17 ms, sys: 0 ns, total: 17 ms\n",
      "Wall time: 16.4 ms\n"
     ]
    }
   ],
   "source": [
    "%%time\n",
    "filtered_house_df = filtered_house_df.dropna(subset=\"price\")\n",
    "filtered_house_df.info()"
   ]
  },
  {
   "cell_type": "code",
   "execution_count": 14,
   "id": "f89b2ee7-41be-41db-81ee-1161298a8044",
   "metadata": {
    "execution": {
     "iopub.execute_input": "2025-06-10T14:22:36.940967Z",
     "iopub.status.busy": "2025-06-10T14:22:36.940798Z",
     "iopub.status.idle": "2025-06-10T14:22:36.948590Z",
     "shell.execute_reply": "2025-06-10T14:22:36.947999Z",
     "shell.execute_reply.started": "2025-06-10T14:22:36.940952Z"
    }
   },
   "outputs": [
    {
     "data": {
      "text/html": [
       "<div>\n",
       "<style scoped>\n",
       "    .dataframe tbody tr th:only-of-type {\n",
       "        vertical-align: middle;\n",
       "    }\n",
       "\n",
       "    .dataframe tbody tr th {\n",
       "        vertical-align: top;\n",
       "    }\n",
       "\n",
       "    .dataframe thead th {\n",
       "        text-align: right;\n",
       "    }\n",
       "</style>\n",
       "<table border=\"1\" class=\"dataframe\">\n",
       "  <thead>\n",
       "    <tr style=\"text-align: right;\">\n",
       "      <th></th>\n",
       "      <th>price</th>\n",
       "      <th>bed</th>\n",
       "      <th>bath</th>\n",
       "      <th>acre_lot</th>\n",
       "      <th>zip_code</th>\n",
       "      <th>house_size</th>\n",
       "    </tr>\n",
       "  </thead>\n",
       "  <tbody>\n",
       "    <tr>\n",
       "      <th>5199</th>\n",
       "      <td>333490.0</td>\n",
       "      <td>3.0</td>\n",
       "      <td>3.0</td>\n",
       "      <td>0.07</td>\n",
       "      <td>8016.0</td>\n",
       "      <td>1500.0</td>\n",
       "    </tr>\n",
       "    <tr>\n",
       "      <th>10718</th>\n",
       "      <td>299900.0</td>\n",
       "      <td>2.0</td>\n",
       "      <td>1.0</td>\n",
       "      <td>4.99</td>\n",
       "      <td>1431.0</td>\n",
       "      <td>1590.0</td>\n",
       "    </tr>\n",
       "    <tr>\n",
       "      <th>10719</th>\n",
       "      <td>599900.0</td>\n",
       "      <td>3.0</td>\n",
       "      <td>4.0</td>\n",
       "      <td>13.21</td>\n",
       "      <td>1431.0</td>\n",
       "      <td>2224.0</td>\n",
       "    </tr>\n",
       "    <tr>\n",
       "      <th>10720</th>\n",
       "      <td>549900.0</td>\n",
       "      <td>5.0</td>\n",
       "      <td>4.0</td>\n",
       "      <td>1.60</td>\n",
       "      <td>1431.0</td>\n",
       "      <td>3574.0</td>\n",
       "    </tr>\n",
       "    <tr>\n",
       "      <th>10721</th>\n",
       "      <td>269000.0</td>\n",
       "      <td>3.0</td>\n",
       "      <td>2.0</td>\n",
       "      <td>1.85</td>\n",
       "      <td>1431.0</td>\n",
       "      <td>1762.0</td>\n",
       "    </tr>\n",
       "  </tbody>\n",
       "</table>\n",
       "</div>"
      ],
      "text/plain": [
       "          price  bed  bath  acre_lot  zip_code  house_size\n",
       "5199   333490.0  3.0   3.0      0.07    8016.0      1500.0\n",
       "10718  299900.0  2.0   1.0      4.99    1431.0      1590.0\n",
       "10719  599900.0  3.0   4.0     13.21    1431.0      2224.0\n",
       "10720  549900.0  5.0   4.0      1.60    1431.0      3574.0\n",
       "10721  269000.0  3.0   2.0      1.85    1431.0      1762.0"
      ]
     },
     "execution_count": 14,
     "metadata": {},
     "output_type": "execute_result"
    }
   ],
   "source": [
    "filtered_house_df.head()"
   ]
  },
  {
   "cell_type": "code",
   "execution_count": 15,
   "id": "b2263148-a618-49be-99c5-f7bac49824d8",
   "metadata": {
    "execution": {
     "iopub.execute_input": "2025-06-10T14:22:36.949347Z",
     "iopub.status.busy": "2025-06-10T14:22:36.949185Z",
     "iopub.status.idle": "2025-06-10T14:22:36.958411Z",
     "shell.execute_reply": "2025-06-10T14:22:36.957774Z",
     "shell.execute_reply.started": "2025-06-10T14:22:36.949332Z"
    }
   },
   "outputs": [],
   "source": [
    "#filtered_house_df = filtered_house_df[(filtered_house_df['price'] >= 20000) & (filtered_house_df['price'] <= 1500000)]"
   ]
  },
  {
   "cell_type": "code",
   "execution_count": null,
   "id": "bf54f568-578b-4edc-996c-5a0e276be7d8",
   "metadata": {},
   "outputs": [],
   "source": []
  },
  {
   "cell_type": "code",
   "execution_count": null,
   "id": "d18da829-65e2-463c-a0d3-f8eb1737dbe2",
   "metadata": {},
   "outputs": [],
   "source": []
  },
  {
   "cell_type": "code",
   "execution_count": 16,
   "id": "a0348622-29f4-45c8-b10e-b78253a2193c",
   "metadata": {
    "execution": {
     "iopub.execute_input": "2025-06-10T14:22:36.959377Z",
     "iopub.status.busy": "2025-06-10T14:22:36.959026Z",
     "iopub.status.idle": "2025-06-10T14:22:37.754856Z",
     "shell.execute_reply": "2025-06-10T14:22:37.754229Z",
     "shell.execute_reply.started": "2025-06-10T14:22:36.959361Z"
    }
   },
   "outputs": [
    {
     "name": "stdout",
     "output_type": "stream",
     "text": [
      "Requirement already satisfied: pgeocode in /home/evrard/.pyenv/versions/3.10.6/envs/zillows_real_estate/lib/python3.10/site-packages (0.5.0)\n",
      "Requirement already satisfied: requests in /home/evrard/.pyenv/versions/3.10.6/envs/zillows_real_estate/lib/python3.10/site-packages (from pgeocode) (2.32.3)\n",
      "Requirement already satisfied: numpy in /home/evrard/.pyenv/versions/3.10.6/envs/zillows_real_estate/lib/python3.10/site-packages (from pgeocode) (2.2.6)\n",
      "Requirement already satisfied: pandas in /home/evrard/.pyenv/versions/3.10.6/envs/zillows_real_estate/lib/python3.10/site-packages (from pgeocode) (2.3.0)\n",
      "Requirement already satisfied: python-dateutil>=2.8.2 in /home/evrard/.pyenv/versions/3.10.6/envs/zillows_real_estate/lib/python3.10/site-packages (from pandas->pgeocode) (2.9.0.post0)\n",
      "Requirement already satisfied: pytz>=2020.1 in /home/evrard/.pyenv/versions/3.10.6/envs/zillows_real_estate/lib/python3.10/site-packages (from pandas->pgeocode) (2025.2)\n",
      "Requirement already satisfied: tzdata>=2022.7 in /home/evrard/.pyenv/versions/3.10.6/envs/zillows_real_estate/lib/python3.10/site-packages (from pandas->pgeocode) (2025.2)\n",
      "Requirement already satisfied: six>=1.5 in /home/evrard/.pyenv/versions/3.10.6/envs/zillows_real_estate/lib/python3.10/site-packages (from python-dateutil>=2.8.2->pandas->pgeocode) (1.17.0)\n",
      "Requirement already satisfied: charset-normalizer<4,>=2 in /home/evrard/.pyenv/versions/3.10.6/envs/zillows_real_estate/lib/python3.10/site-packages (from requests->pgeocode) (3.4.2)\n",
      "Requirement already satisfied: idna<4,>=2.5 in /home/evrard/.pyenv/versions/3.10.6/envs/zillows_real_estate/lib/python3.10/site-packages (from requests->pgeocode) (3.10)\n",
      "Requirement already satisfied: urllib3<3,>=1.21.1 in /home/evrard/.pyenv/versions/3.10.6/envs/zillows_real_estate/lib/python3.10/site-packages (from requests->pgeocode) (2.4.0)\n",
      "Requirement already satisfied: certifi>=2017.4.17 in /home/evrard/.pyenv/versions/3.10.6/envs/zillows_real_estate/lib/python3.10/site-packages (from requests->pgeocode) (2025.4.26)\n",
      "Note: you may need to restart the kernel to use updated packages.\n"
     ]
    }
   ],
   "source": [
    "pip install pgeocode"
   ]
  },
  {
   "cell_type": "code",
   "execution_count": 21,
   "id": "0aa285aa-9a0f-4a77-a06e-7a1650cb270b",
   "metadata": {
    "execution": {
     "iopub.execute_input": "2025-06-10T14:28:07.755130Z",
     "iopub.status.busy": "2025-06-10T14:28:07.754657Z",
     "iopub.status.idle": "2025-06-10T14:28:22.679001Z",
     "shell.execute_reply": "2025-06-10T14:28:22.678443Z",
     "shell.execute_reply.started": "2025-06-10T14:28:07.755106Z"
    }
   },
   "outputs": [
    {
     "name": "stdout",
     "output_type": "stream",
     "text": [
      "latitude     0\n",
      "longitude    0\n",
      "dtype: int64\n"
     ]
    }
   ],
   "source": [
    "import pandas as pd\n",
    "import pgeocode\n",
    "\n",
    "# Convert zip_code column to 5-digit string\n",
    "filtered_house_df['zip_code'] = filtered_house_df['zip_code'].astype(str).str.replace('\\.0$', '', regex=True).str.zfill(5)\n",
    "\n",
    "# Get unique zip codes\n",
    "unique_zips = filtered_house_df['zip_code'].unique()\n",
    "\n",
    "# Initialize pgeocode for US\n",
    "nomi = pgeocode.Nominatim('us')\n",
    "\n",
    "# Function to get coordinates\n",
    "def get_coordinates(zip_code):\n",
    "    try:\n",
    "        result = nomi.query_postal_code(zip_code)\n",
    "        if result.empty or pd.isna(result.latitude):\n",
    "            return pd.Series([None, None])\n",
    "        return pd.Series([result.latitude, result.longitude])\n",
    "    except:\n",
    "        return pd.Series([None, None])\n",
    "\n",
    "# Create DataFrame for unique zip codes\n",
    "zip_coords = pd.DataFrame(unique_zips, columns=['zip_code'])\n",
    "zip_coords[['latitude', 'longitude']] = zip_coords.apply(lambda row: get_coordinates(row['zip_code']), axis=1)\n",
    "\n",
    "# Map coordinates back to filtered_house_df\n",
    "coords_dict = zip_coords.set_index('zip_code')[['latitude', 'longitude']].to_dict('index')\n",
    "filtered_house_df['latitude'] = filtered_house_df['zip_code'].map(lambda x: coords_dict.get(x, {}).get('latitude'))\n",
    "filtered_house_df['longitude'] = filtered_house_df['zip_code'].map(lambda x: coords_dict.get(x, {}).get('longitude'))\n",
    "\n",
    "\n",
    "\n",
    "# Check for missing coordinates\n",
    "print(filtered_house_df[['latitude', 'longitude']].isna().sum())"
   ]
  },
  {
   "cell_type": "code",
   "execution_count": 22,
   "id": "fd1b3606-ee2a-4dcc-b585-ce6eb078c27b",
   "metadata": {
    "execution": {
     "iopub.execute_input": "2025-06-10T14:28:46.076337Z",
     "iopub.status.busy": "2025-06-10T14:28:46.075740Z",
     "iopub.status.idle": "2025-06-10T14:28:46.085490Z",
     "shell.execute_reply": "2025-06-10T14:28:46.084893Z",
     "shell.execute_reply.started": "2025-06-10T14:28:46.076318Z"
    },
    "scrolled": true
   },
   "outputs": [
    {
     "data": {
      "text/html": [
       "<div>\n",
       "<style scoped>\n",
       "    .dataframe tbody tr th:only-of-type {\n",
       "        vertical-align: middle;\n",
       "    }\n",
       "\n",
       "    .dataframe tbody tr th {\n",
       "        vertical-align: top;\n",
       "    }\n",
       "\n",
       "    .dataframe thead th {\n",
       "        text-align: right;\n",
       "    }\n",
       "</style>\n",
       "<table border=\"1\" class=\"dataframe\">\n",
       "  <thead>\n",
       "    <tr style=\"text-align: right;\">\n",
       "      <th></th>\n",
       "      <th>price</th>\n",
       "      <th>bed</th>\n",
       "      <th>bath</th>\n",
       "      <th>acre_lot</th>\n",
       "      <th>zip_code</th>\n",
       "      <th>house_size</th>\n",
       "      <th>latitude</th>\n",
       "      <th>longitude</th>\n",
       "    </tr>\n",
       "  </thead>\n",
       "  <tbody>\n",
       "    <tr>\n",
       "      <th>5199</th>\n",
       "      <td>333490.0</td>\n",
       "      <td>3.0</td>\n",
       "      <td>3.0</td>\n",
       "      <td>0.07</td>\n",
       "      <td>08016</td>\n",
       "      <td>1500.0</td>\n",
       "      <td>40.0680</td>\n",
       "      <td>-74.8454</td>\n",
       "    </tr>\n",
       "    <tr>\n",
       "      <th>10718</th>\n",
       "      <td>299900.0</td>\n",
       "      <td>2.0</td>\n",
       "      <td>1.0</td>\n",
       "      <td>4.99</td>\n",
       "      <td>01431</td>\n",
       "      <td>1590.0</td>\n",
       "      <td>42.6745</td>\n",
       "      <td>-71.8174</td>\n",
       "    </tr>\n",
       "    <tr>\n",
       "      <th>10719</th>\n",
       "      <td>599900.0</td>\n",
       "      <td>3.0</td>\n",
       "      <td>4.0</td>\n",
       "      <td>13.21</td>\n",
       "      <td>01431</td>\n",
       "      <td>2224.0</td>\n",
       "      <td>42.6745</td>\n",
       "      <td>-71.8174</td>\n",
       "    </tr>\n",
       "    <tr>\n",
       "      <th>10720</th>\n",
       "      <td>549900.0</td>\n",
       "      <td>5.0</td>\n",
       "      <td>4.0</td>\n",
       "      <td>1.60</td>\n",
       "      <td>01431</td>\n",
       "      <td>3574.0</td>\n",
       "      <td>42.6745</td>\n",
       "      <td>-71.8174</td>\n",
       "    </tr>\n",
       "    <tr>\n",
       "      <th>10721</th>\n",
       "      <td>269000.0</td>\n",
       "      <td>3.0</td>\n",
       "      <td>2.0</td>\n",
       "      <td>1.85</td>\n",
       "      <td>01431</td>\n",
       "      <td>1762.0</td>\n",
       "      <td>42.6745</td>\n",
       "      <td>-71.8174</td>\n",
       "    </tr>\n",
       "    <tr>\n",
       "      <th>...</th>\n",
       "      <td>...</td>\n",
       "      <td>...</td>\n",
       "      <td>...</td>\n",
       "      <td>...</td>\n",
       "      <td>...</td>\n",
       "      <td>...</td>\n",
       "      <td>...</td>\n",
       "      <td>...</td>\n",
       "    </tr>\n",
       "    <tr>\n",
       "      <th>2220312</th>\n",
       "      <td>824900.0</td>\n",
       "      <td>4.0</td>\n",
       "      <td>5.0</td>\n",
       "      <td>5.00</td>\n",
       "      <td>98671</td>\n",
       "      <td>4015.0</td>\n",
       "      <td>45.5959</td>\n",
       "      <td>-122.3104</td>\n",
       "    </tr>\n",
       "    <tr>\n",
       "      <th>2220313</th>\n",
       "      <td>1700000.0</td>\n",
       "      <td>4.0</td>\n",
       "      <td>5.0</td>\n",
       "      <td>5.03</td>\n",
       "      <td>98671</td>\n",
       "      <td>4266.0</td>\n",
       "      <td>45.5959</td>\n",
       "      <td>-122.3104</td>\n",
       "    </tr>\n",
       "    <tr>\n",
       "      <th>2220330</th>\n",
       "      <td>524900.0</td>\n",
       "      <td>3.0</td>\n",
       "      <td>3.0</td>\n",
       "      <td>0.12</td>\n",
       "      <td>98665</td>\n",
       "      <td>2172.0</td>\n",
       "      <td>45.6892</td>\n",
       "      <td>-122.6616</td>\n",
       "    </tr>\n",
       "    <tr>\n",
       "      <th>2220331</th>\n",
       "      <td>420000.0</td>\n",
       "      <td>3.0</td>\n",
       "      <td>3.0</td>\n",
       "      <td>0.08</td>\n",
       "      <td>98665</td>\n",
       "      <td>1532.0</td>\n",
       "      <td>45.6892</td>\n",
       "      <td>-122.6616</td>\n",
       "    </tr>\n",
       "    <tr>\n",
       "      <th>2224341</th>\n",
       "      <td>450000.0</td>\n",
       "      <td>NaN</td>\n",
       "      <td>NaN</td>\n",
       "      <td>59.50</td>\n",
       "      <td>98122</td>\n",
       "      <td>NaN</td>\n",
       "      <td>47.6116</td>\n",
       "      <td>-122.3056</td>\n",
       "    </tr>\n",
       "  </tbody>\n",
       "</table>\n",
       "<p>935009 rows × 8 columns</p>\n",
       "</div>"
      ],
      "text/plain": [
       "             price  bed  bath  acre_lot zip_code  house_size  latitude  \\\n",
       "5199      333490.0  3.0   3.0      0.07    08016      1500.0   40.0680   \n",
       "10718     299900.0  2.0   1.0      4.99    01431      1590.0   42.6745   \n",
       "10719     599900.0  3.0   4.0     13.21    01431      2224.0   42.6745   \n",
       "10720     549900.0  5.0   4.0      1.60    01431      3574.0   42.6745   \n",
       "10721     269000.0  3.0   2.0      1.85    01431      1762.0   42.6745   \n",
       "...            ...  ...   ...       ...      ...         ...       ...   \n",
       "2220312   824900.0  4.0   5.0      5.00    98671      4015.0   45.5959   \n",
       "2220313  1700000.0  4.0   5.0      5.03    98671      4266.0   45.5959   \n",
       "2220330   524900.0  3.0   3.0      0.12    98665      2172.0   45.6892   \n",
       "2220331   420000.0  3.0   3.0      0.08    98665      1532.0   45.6892   \n",
       "2224341   450000.0  NaN   NaN     59.50    98122         NaN   47.6116   \n",
       "\n",
       "         longitude  \n",
       "5199      -74.8454  \n",
       "10718     -71.8174  \n",
       "10719     -71.8174  \n",
       "10720     -71.8174  \n",
       "10721     -71.8174  \n",
       "...            ...  \n",
       "2220312  -122.3104  \n",
       "2220313  -122.3104  \n",
       "2220330  -122.6616  \n",
       "2220331  -122.6616  \n",
       "2224341  -122.3056  \n",
       "\n",
       "[935009 rows x 8 columns]"
      ]
     },
     "execution_count": 22,
     "metadata": {},
     "output_type": "execute_result"
    }
   ],
   "source": [
    "filtered_house_df"
   ]
  },
  {
   "cell_type": "code",
   "execution_count": null,
   "id": "a21d4102-5bc0-47d1-be14-0e4ec1217c20",
   "metadata": {},
   "outputs": [],
   "source": []
  },
  {
   "cell_type": "code",
   "execution_count": 24,
   "id": "2973d0fd-7262-40db-bc68-eb11f078af5a",
   "metadata": {
    "execution": {
     "iopub.execute_input": "2025-06-10T15:03:37.781113Z",
     "iopub.status.busy": "2025-06-10T15:03:37.780272Z",
     "iopub.status.idle": "2025-06-10T15:03:38.082553Z",
     "shell.execute_reply": "2025-06-10T15:03:38.081961Z",
     "shell.execute_reply.started": "2025-06-10T15:03:37.781091Z"
    }
   },
   "outputs": [],
   "source": [
    "from sklearn.model_selection import train_test_split\n",
    "from sklearn.dummy import DummyRegressor\n",
    "from sklearn.linear_model import LinearRegression\n",
    "X = filtered_house_df.drop(columns='price')\n",
    "y = filtered_house_df['price']\n",
    "X_train, X_test, y_train, y_test = train_test_split(X, y, test_size = 0.3, random_state = 42)"
   ]
  },
  {
   "cell_type": "code",
   "execution_count": null,
   "id": "0711491f-e685-4cfe-8c54-381253018ba2",
   "metadata": {},
   "outputs": [],
   "source": [
    "#preprocessing\n",
    "#The scaling\n",
    "\n",
    "# StandardScaler (\"Standardizing\")\n",
    "# MinMaxScaler (\"Normalizing\")\n",
    "# RobustScaler"
   ]
  },
  {
   "cell_type": "code",
   "execution_count": null,
   "id": "262d47f6-7221-4ba2-96e8-ccf8d98d32cf",
   "metadata": {},
   "outputs": [],
   "source": [
    "import pandas as pd\n",
    "import numpy as np\n",
    "from sklearn.compose import ColumnTransformer\n",
    "from sklearn.preprocessing import StandardScaler\n",
    "from sklearn.model_selection import train_test_split\n",
    "from sklearn.metrics import mean_squared_error\n",
    "from xgboost import XGBRegressor\n",
    "\n",
    "\n",
    "\n",
    "\n",
    "\n",
    "# 2. Preprocess with ColumnTransformer\n",
    "preprocessor = ColumnTransformer(\n",
    "    transformers=[\n",
    "        ('num', StandardScaler(), features)  # Scale all numeric features\n",
    "    ]\n",
    ")\n",
    "\n",
    "# 3. Split data\n",
    "X_train, X_test, y_train, y_test = train_test_split(X, y, test_size=0.2, random_state=42)\n",
    "\n",
    "# 4. Apply preprocessor\n",
    "X_train_transformed = preprocessor.fit_transform(X_train)\n",
    "X_test_transformed = preprocessor.transform(X_test)\n",
    "\n",
    "# 5. Train XGBoost model\n",
    "model = XGBRegressor(n_estimators=100, learning_rate=0.1, random_state=42, n_jobs=-1)\n",
    "model.fit(X_train_transformed, y_train)\n",
    "\n",
    "# 6. Evaluate\n",
    "y_pred = model.predict(X_test_transformed)\n",
    "rmse = np.sqrt(mean_squared_error(y_test, y_pred))\n",
    "print(f\"XGBoost RMSE: ${rmse:,.2f}\")\n",
    "\n",
    "# Feature importance\n",
    "print(\"Feature importance:\")\n",
    "for name, importance in zip(features, model.feature_importances_):\n",
    "    print(f\"{name}: {importance:.4f}\")\n",
    "\n",
    "# Save predictions\n",
    "test_results = X_test.copy()\n",
    "test_results['actual_price'] = y_test\n",
    "test_results['predicted_price'] = y_pred\n",
    "test_results.to_csv('price_predictions_xgboost.csv', index=False)"
   ]
  }
 ],
 "metadata": {
  "kernelspec": {
   "display_name": "Python 3 (ipykernel)",
   "language": "python",
   "name": "python3"
  },
  "language_info": {
   "codemirror_mode": {
    "name": "ipython",
    "version": 3
   },
   "file_extension": ".py",
   "mimetype": "text/x-python",
   "name": "python",
   "nbconvert_exporter": "python",
   "pygments_lexer": "ipython3",
   "version": "3.10.6"
  }
 },
 "nbformat": 4,
 "nbformat_minor": 5
}
