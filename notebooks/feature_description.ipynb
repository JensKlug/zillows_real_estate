{
 "cells": [
  {
   "cell_type": "code",
   "execution_count": 1,
   "id": "1432b2d6",
   "metadata": {},
   "outputs": [],
   "source": [
    "import pandas as pd"
   ]
  },
  {
   "cell_type": "code",
   "execution_count": 2,
   "id": "434d2fb1",
   "metadata": {},
   "outputs": [],
   "source": [
    "df = pd.read_csv('/home/jensk/code/JensKlug/zillows_real_estate/raw_data/HouseTS.csv')"
   ]
  },
  {
   "cell_type": "code",
   "execution_count": 4,
   "id": "0b22ef83",
   "metadata": {},
   "outputs": [],
   "source": [
    "df_sorted = df.sort_values(['zipcode', 'date']).reset_index(drop=True)\n",
    "#df_sorted[['zipcode', 'date']]"
   ]
  },
  {
   "cell_type": "code",
   "execution_count": null,
   "id": "21c467d0",
   "metadata": {},
   "outputs": [],
   "source": [
    "#df_grouped = df_sorted.groupby('zipcode')"
   ]
  },
  {
   "cell_type": "code",
   "execution_count": 5,
   "id": "416c90f4",
   "metadata": {},
   "outputs": [
    {
     "data": {
      "text/plain": [
       "Index(['date', 'median_sale_price', 'median_list_price', 'median_ppsf',\n",
       "       'median_list_ppsf', 'homes_sold', 'pending_sales', 'new_listings',\n",
       "       'inventory', 'median_dom', 'avg_sale_to_list', 'sold_above_list',\n",
       "       'off_market_in_two_weeks', 'city', 'zipcode', 'year', 'bank', 'bus',\n",
       "       'hospital', 'mall', 'park', 'restaurant', 'school', 'station',\n",
       "       'supermarket', 'Total Population', 'Median Age', 'Per Capita Income',\n",
       "       'Total Families Below Poverty', 'Total Housing Units', 'Median Rent',\n",
       "       'Median Home Value', 'Total Labor Force', 'Unemployed Population',\n",
       "       'Total School Age Population', 'Total School Enrollment',\n",
       "       'Median Commute Time', 'price', 'city_full'],\n",
       "      dtype='object')"
      ]
     },
     "execution_count": 5,
     "metadata": {},
     "output_type": "execute_result"
    }
   ],
   "source": [
    "all_column_names = df_sorted.columns\n",
    "all_column_names"
   ]
  },
  {
   "cell_type": "code",
   "execution_count": null,
   "id": "874f9ec3",
   "metadata": {},
   "outputs": [],
   "source": [
    "#numeric_column_names = df_sorted.select_dtypes(include='number').columns"
   ]
  },
  {
   "cell_type": "code",
   "execution_count": 19,
   "id": "09e0dda4",
   "metadata": {},
   "outputs": [],
   "source": [
    "feature_description = {}\n"
   ]
  },
  {
   "cell_type": "code",
   "execution_count": 18,
   "id": "d4fb6db0",
   "metadata": {},
   "outputs": [
    {
     "data": {
      "text/plain": [
       "{'date': 'Date of the observation.'}"
      ]
     },
     "execution_count": 18,
     "metadata": {},
     "output_type": "execute_result"
    }
   ],
   "source": [
    "feature_description"
   ]
  },
  {
   "cell_type": "code",
   "execution_count": 57,
   "id": "1cefcc87",
   "metadata": {},
   "outputs": [
    {
     "data": {
      "text/html": [
       "<div>\n",
       "<style scoped>\n",
       "    .dataframe tbody tr th:only-of-type {\n",
       "        vertical-align: middle;\n",
       "    }\n",
       "\n",
       "    .dataframe tbody tr th {\n",
       "        vertical-align: top;\n",
       "    }\n",
       "\n",
       "    .dataframe thead th {\n",
       "        text-align: right;\n",
       "    }\n",
       "</style>\n",
       "<table border=\"1\" class=\"dataframe\">\n",
       "  <thead>\n",
       "    <tr style=\"text-align: right;\">\n",
       "      <th></th>\n",
       "      <th>date</th>\n",
       "      <th>zipcode</th>\n",
       "      <th>Total Population</th>\n",
       "      <th>city_full</th>\n",
       "    </tr>\n",
       "  </thead>\n",
       "  <tbody>\n",
       "    <tr>\n",
       "      <th>0</th>\n",
       "      <td>2012-03-31</td>\n",
       "      <td>1431</td>\n",
       "      <td>3030.0</td>\n",
       "      <td>Boston-Cambridge-Newton</td>\n",
       "    </tr>\n",
       "    <tr>\n",
       "      <th>1</th>\n",
       "      <td>2012-04-30</td>\n",
       "      <td>1431</td>\n",
       "      <td>3030.0</td>\n",
       "      <td>Boston-Cambridge-Newton</td>\n",
       "    </tr>\n",
       "    <tr>\n",
       "      <th>2</th>\n",
       "      <td>2012-05-31</td>\n",
       "      <td>1431</td>\n",
       "      <td>3030.0</td>\n",
       "      <td>Boston-Cambridge-Newton</td>\n",
       "    </tr>\n",
       "    <tr>\n",
       "      <th>3</th>\n",
       "      <td>2012-06-30</td>\n",
       "      <td>1431</td>\n",
       "      <td>3030.0</td>\n",
       "      <td>Boston-Cambridge-Newton</td>\n",
       "    </tr>\n",
       "    <tr>\n",
       "      <th>4</th>\n",
       "      <td>2012-07-31</td>\n",
       "      <td>1431</td>\n",
       "      <td>3030.0</td>\n",
       "      <td>Boston-Cambridge-Newton</td>\n",
       "    </tr>\n",
       "    <tr>\n",
       "      <th>...</th>\n",
       "      <td>...</td>\n",
       "      <td>...</td>\n",
       "      <td>...</td>\n",
       "      <td>...</td>\n",
       "    </tr>\n",
       "    <tr>\n",
       "      <th>884087</th>\n",
       "      <td>2023-08-31</td>\n",
       "      <td>98686</td>\n",
       "      <td>20518.0</td>\n",
       "      <td>Portland-Vancouver-Hillsboro</td>\n",
       "    </tr>\n",
       "    <tr>\n",
       "      <th>884088</th>\n",
       "      <td>2023-09-30</td>\n",
       "      <td>98686</td>\n",
       "      <td>20518.0</td>\n",
       "      <td>Portland-Vancouver-Hillsboro</td>\n",
       "    </tr>\n",
       "    <tr>\n",
       "      <th>884089</th>\n",
       "      <td>2023-10-31</td>\n",
       "      <td>98686</td>\n",
       "      <td>20518.0</td>\n",
       "      <td>Portland-Vancouver-Hillsboro</td>\n",
       "    </tr>\n",
       "    <tr>\n",
       "      <th>884090</th>\n",
       "      <td>2023-11-30</td>\n",
       "      <td>98686</td>\n",
       "      <td>20518.0</td>\n",
       "      <td>Portland-Vancouver-Hillsboro</td>\n",
       "    </tr>\n",
       "    <tr>\n",
       "      <th>884091</th>\n",
       "      <td>2023-12-31</td>\n",
       "      <td>98686</td>\n",
       "      <td>20518.0</td>\n",
       "      <td>Portland-Vancouver-Hillsboro</td>\n",
       "    </tr>\n",
       "  </tbody>\n",
       "</table>\n",
       "<p>884092 rows × 4 columns</p>\n",
       "</div>"
      ],
      "text/plain": [
       "              date  zipcode  Total Population                     city_full\n",
       "0       2012-03-31     1431            3030.0       Boston-Cambridge-Newton\n",
       "1       2012-04-30     1431            3030.0       Boston-Cambridge-Newton\n",
       "2       2012-05-31     1431            3030.0       Boston-Cambridge-Newton\n",
       "3       2012-06-30     1431            3030.0       Boston-Cambridge-Newton\n",
       "4       2012-07-31     1431            3030.0       Boston-Cambridge-Newton\n",
       "...            ...      ...               ...                           ...\n",
       "884087  2023-08-31    98686           20518.0  Portland-Vancouver-Hillsboro\n",
       "884088  2023-09-30    98686           20518.0  Portland-Vancouver-Hillsboro\n",
       "884089  2023-10-31    98686           20518.0  Portland-Vancouver-Hillsboro\n",
       "884090  2023-11-30    98686           20518.0  Portland-Vancouver-Hillsboro\n",
       "884091  2023-12-31    98686           20518.0  Portland-Vancouver-Hillsboro\n",
       "\n",
       "[884092 rows x 4 columns]"
      ]
     },
     "execution_count": 57,
     "metadata": {},
     "output_type": "execute_result"
    }
   ],
   "source": [
    "df_sorted[['date','zipcode','Total Population', 'city_full']]"
   ]
  },
  {
   "cell_type": "code",
   "execution_count": 54,
   "id": "99717aa2",
   "metadata": {},
   "outputs": [],
   "source": [
    "feature_description['date'] = 'Date of the observation.'\n",
    "feature_description['median_sale_price'] = 'Median sale price of homes during the observation period.'\n",
    "feature_description['median_list_price'] = 'Median listing price of homes during the observation period.'\n",
    "feature_description['median_ppsf'] = 'Median sale price per square foot of homes sold.'\n",
    "feature_description['median_list_ppsf'] = 'Median listing price per square foot of homes listed.'\n",
    "feature_description['homes_sold'] = 'Total number of homes sold during the observation period.'\n",
    "feature_description['pending_sales'] = 'Number of homes under contract but not yet sold.'\n",
    "feature_description['new_listings'] = 'Number of newly listed homes during the observation period.'\n",
    "feature_description['inventory'] = 'Total number of active home listings.'\n",
    "feature_description['median_dom'] = 'Median number of days a home stays on the market before being sold (Days on Market).'\n",
    "feature_description['avg_sale_to_list'] = 'Average ratio of sale price to list price, expressed as a percentage.'\n",
    "feature_description['sold_above_list'] = 'Percentage of homes sold above their listing price.'\n",
    "feature_description['off_market_in_two_weeks'] = 'Percentage of homes that went off market within two weeks of listing.'\n",
    "feature_description['city'] = 'City in which the home is located.'\n",
    "feature_description['zipcode'] = 'ZIP code where the home is located.'\n",
    "feature_description['year'] = 'Year of the observation.'\n",
    "feature_description['bank'] = 'Number of bank branches in the area.'\n",
    "feature_description['bus'] = 'Number of bus stops in the area.'\n",
    "feature_description['hospital'] = 'Number of hospitals in the area.'\n",
    "feature_description['mall'] = 'Number of shopping malls in the area.'\n",
    "feature_description['park'] = 'Number of parks in the area.'\n",
    "feature_description['restaurant'] = 'Number of restaurants in the area.'\n",
    "feature_description['school'] = 'Number of schools in the area.'\n",
    "feature_description['station'] = 'Number of train or subway stations in the area.'\n",
    "feature_description['supermarket'] = 'Number of supermarkets in the area.'\n",
    "feature_description['Total Population'] = 'Total population of the ZIP code area.'\n",
    "feature_description['Median Age'] = 'Median age of the population in the ZIP code area.'\n",
    "feature_description['Per Capita Income'] = 'Average income earned per person in the ZIP code area.'\n",
    "feature_description['Total Families Below Poverty'] = 'Total number of families living below the poverty line in the ZIP code area.'\n",
    "feature_description['Total Housing Units'] = 'Total number of housing units in the ZIP code area.'\n",
    "feature_description['Median Rent'] = 'Median monthly rent in the ZIP code area.'\n",
    "feature_description['Median Home Value'] = 'Median value of owner-occupied housing units in the ZIP code area.'\n",
    "feature_description['Total Labor Force'] = 'Total number of people in the labor force in the ZIP code area.'\n",
    "feature_description['Unemployed Population'] = 'Total number of unemployed people in the ZIP code area.'\n",
    "feature_description['Total School Age Population'] = 'Total number of school-aged individuals in the ZIP code area.'\n",
    "feature_description['Total School Enrollment'] = 'Total number of individuals enrolled in school in the ZIP code area.'\n",
    "feature_description['Median Commute Time'] = 'Median travel time to work for residents in the ZIP code area (in minutes).'\n",
    "feature_description['price'] = 'Final estimated home price, target variable in simulation.'\n",
    "feature_description['city_full'] = 'Full name or description of the city (may include state or additional info).'\n"
   ]
  },
  {
   "cell_type": "code",
   "execution_count": null,
   "id": "567399a4",
   "metadata": {},
   "outputs": [],
   "source": []
  },
  {
   "cell_type": "code",
   "execution_count": null,
   "id": "a76afe03",
   "metadata": {},
   "outputs": [],
   "source": []
  },
  {
   "cell_type": "code",
   "execution_count": null,
   "id": "7122b071",
   "metadata": {},
   "outputs": [],
   "source": []
  }
 ],
 "metadata": {
  "kernelspec": {
   "display_name": "zillows_real_estate",
   "language": "python",
   "name": "python3"
  },
  "language_info": {
   "codemirror_mode": {
    "name": "ipython",
    "version": 3
   },
   "file_extension": ".py",
   "mimetype": "text/x-python",
   "name": "python",
   "nbconvert_exporter": "python",
   "pygments_lexer": "ipython3",
   "version": "3.10.6"
  }
 },
 "nbformat": 4,
 "nbformat_minor": 5
}
